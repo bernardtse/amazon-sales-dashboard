{
 "cells": [
  {
   "cell_type": "code",
   "execution_count": null,
   "id": "b0a4ac70-b971-4da2-b12d-e3b48ab867d7",
   "metadata": {},
   "outputs": [],
   "source": [
    "# Import necessary libraries\n",
    "import pandas as pd\n",
    "from textblob import TextBlob\n",
    "import kagglehub\n",
    "from kagglehub import KaggleDatasetAdapter\n",
    "\n",
    "# Set the path to the file you'd like to load\n",
    "file_path = \"amazon.csv\"\n",
    "\n",
    "# Load the Kaggle dataframe\n",
    "amazon_df_raw = kagglehub.dataset_load(\n",
    "  KaggleDatasetAdapter.PANDAS,\n",
    "  \"karkavelrajaj/amazon-sales-dataset\",\n",
    "  file_path,)\n",
    "\n",
    "amazon_df = amazon_df_raw.copy()\n",
    "\n",
    "amazon_df.head()"
   ]
  },
  {
   "cell_type": "code",
   "execution_count": null,
   "id": "efc3d3e7-f701-422c-ba54-12bbe14f5357",
   "metadata": {},
   "outputs": [],
   "source": [
    "## Alternative method (disabled by default)\n",
    "## To run this cell, delete the first \"#\" on each line\n",
    "\n",
    "## Import necessary libraries\n",
    "#import os\n",
    "#import shutil\n",
    "#import pandas as pd\n",
    "#from textblob import TextBlob\n",
    "#import kagglehub\n",
    "\n",
    "## Download Kaggle dataset to cache\n",
    "#download_path = kagglehub.dataset_download(\"karkavelrajaj/amazon-sales-dataset\", path=\"amazon.csv\")\n",
    "\n",
    "## Define target path and make sure the target directory exists\n",
    "#target_path = \"data/amazon.csv\"\n",
    "#os.makedirs(os.path.dirname(target_path), exist_ok = True)\n",
    "\n",
    "## Move the downloaded file to the target path\n",
    "#shutil.move(download_path, target_path)\n",
    "\n",
    "## Read CSV file and load the dataframe\n",
    "#amazon_df_raw = pd.read_csv(target_path)\n",
    "#amazon_df = amazon_df_raw.copy()\n",
    "\n",
    "#amazon_df.head()"
   ]
  },
  {
   "cell_type": "code",
   "execution_count": null,
   "id": "8957e764-2f17-445d-a438-c203e65c8880",
   "metadata": {},
   "outputs": [],
   "source": [
    "# Drop \"img_link\", \"product_link\", and other columns\n",
    "amazon_df = amazon_df.drop([\"user_id\", \"user_name\", \"review_id\", \"img_link\", \"product_link\"], axis = 1)\n",
    "amazon_df.head()"
   ]
  },
  {
   "cell_type": "code",
   "execution_count": null,
   "id": "f7f808b8-7071-417d-90fd-957eb8411ace",
   "metadata": {},
   "outputs": [],
   "source": [
    "# Perform a quick clean if there are fewer than 2% rows with empty cells\n",
    "def quick_clean(df):\n",
    "    threshold = 2 # Default threshold set to 2%. Change the value where necessary. \n",
    "    df_qclean = df.dropna()\n",
    "    original_count = df.shape[0]\n",
    "    cleaned_count = df_qclean.shape[0]\n",
    "\n",
    "    percentage_dropped = (original_count - cleaned_count) / original_count * 100\n",
    "\n",
    "    print(\"Number of items (original):\", original_count)\n",
    "    print(\"Number of items (quick clean):\", cleaned_count)\n",
    "    print(f\"Percentage dropped: {round(percentage_dropped, 2)}%\")\n",
    "\n",
    "    if percentage_dropped < threshold:\n",
    "        print(f\"Quick clean applied to the DataFrame. {round(percentage_dropped, 2)}% of rows dropped.\")\n",
    "        return df_qclean\n",
    "    else:\n",
    "        print(\"More sophisticated cleaning methods needed.\")\n",
    "        return df\n",
    "\n",
    "# Apply quick clean function\n",
    "amazon_df = quick_clean(amazon_df)"
   ]
  },
  {
   "cell_type": "code",
   "execution_count": null,
   "id": "bfec59a8-c626-46a2-85bc-e8efcb97e759",
   "metadata": {},
   "outputs": [],
   "source": [
    "# Check data types\n",
    "amazon_df.dtypes"
   ]
  },
  {
   "cell_type": "code",
   "execution_count": null,
   "id": "29180bc2-bbbb-41f8-860f-93503d823070",
   "metadata": {},
   "outputs": [],
   "source": [
    "# Find unique data types in each column\n",
    "amazon_df.apply(lambda col: col.map(type).unique())"
   ]
  },
  {
   "cell_type": "code",
   "execution_count": null,
   "id": "7dfe8408-43b5-4d2f-b17a-1656f1dbafbe",
   "metadata": {},
   "outputs": [],
   "source": [
    "# Check the first 20 unique items in the \"category\" column\n",
    "amazon_df[\"category\"].unique()[0: 20]"
   ]
  },
  {
   "cell_type": "code",
   "execution_count": null,
   "id": "641efece-8719-490c-a0c7-5aaa495174e5",
   "metadata": {},
   "outputs": [],
   "source": [
    "# Basic transformation of the \"category\" column\n",
    "amazon_df.loc[:, \"category\"] = amazon_df[\"category\"].str.replace(\"&\", \" & \").str.replace(\",\", \", \")"
   ]
  },
  {
   "cell_type": "code",
   "execution_count": null,
   "id": "200442b7-6417-4b90-98f1-621801fc7047",
   "metadata": {},
   "outputs": [],
   "source": [
    "# Split categories and add to the original DataFrame\n",
    "category_split_df = amazon_df[\"category\"].str.split(\"|\", expand=True)\n",
    "category_split_df.fillna(\"none\", inplace=True)\n",
    "category_split_df.columns = [f\"category_l{str(i + 1).zfill(2)}\" for i in range(category_split_df.shape[1])]\n",
    "\n",
    "# Insert the split columns after \"category\"\n",
    "category_col_index = amazon_df.columns.get_loc(\"category\")\n",
    "for i, col in enumerate(category_split_df.columns):\n",
    "    amazon_df.insert(category_col_index + i + 1, col, category_split_df[col])\n",
    "\n",
    "amazon_df.head()"
   ]
  },
  {
   "cell_type": "code",
   "execution_count": null,
   "id": "325c3340-3d7a-4ab4-aa5d-568a5fe46cc4",
   "metadata": {},
   "outputs": [],
   "source": [
    "# Check number of \"none\" in each level of categories and subcategories\n",
    "for i in range(7):\n",
    "    category = f\"category_l0{i+1}\"\n",
    "    count_none = (amazon_df[category] == \"none\").sum()\n",
    "    print(f\"Number of \\\"none\\\" in category_l0{i + 1}: {count_none}\")"
   ]
  },
  {
   "cell_type": "code",
   "execution_count": null,
   "id": "1bf1f26b-625d-4fbd-b821-d3abf95690a3",
   "metadata": {},
   "outputs": [],
   "source": [
    "# Category levels without \"none\" will be further transformed\n",
    "# Check unique categories and subcategories\n",
    "for i in range(2):\n",
    "    category = f\"category_l0{i + 1}\"\n",
    "    print(f\"Unique items in category_l0{i + 1}: {amazon_df[category].unique()}\")"
   ]
  },
  {
   "cell_type": "code",
   "execution_count": null,
   "id": "fda07d1f-a0aa-4e7b-a300-8260fe0298b3",
   "metadata": {},
   "outputs": [],
   "source": [
    "# Transform categories and subcategories\n",
    "amazon_df.loc[:, \"category_l01\"] = amazon_df[\"category_l01\"].str.replace(\"MusicalInstruments\",\"Musical Instruments\") \\\n",
    ".str.replace(\"OfficeProducts\", \"Office Products\").str.replace(\"HomeImprovement\", \"Home Improvement\") \\\n",
    ".str.replace(\"PersonalCare\", \"Personal Care\")\n",
    "amazon_df.loc[:, \"category_l02\"] = amazon_df[\"category_l02\"].str.replace(\"NetworkingDevices\", \"Networking Devices\") \\\n",
    ".str.replace(\"HomeTheater\", \"Home Theater\").str.replace(\"HomeAudio\", \"Home Audio\") \\\n",
    ".str.replace(\"WearableTechnology\", \"Wearable Technology\").str.replace(\"ExternalDevices\", \"External Devices\") \\\n",
    ".str.replace(\"DataStorage\", \"Data Storage\").str.replace(\"GeneralPurposeBatteries\", \"General Purpose Batteries\") \\\n",
    ".str.replace(\"BatteryChargers\", \"Battery Chargers\").str.replace(\"OfficePaperProducts\", \"Office Paper Products\") \\\n",
    ".str.replace(\"CraftMaterials\", \"Craft Materials\").str.replace(\"OfficeElectronics\", \"Office Electronics\") \\\n",
    ".str.replace(\"PowerAccessories\", \"Power Accessories\").str.replace(\"HomeAppliances\", \"Home Appliances\") \\\n",
    ".str.replace(\"AirQuality\", \"Air Quality\").str.replace(\"HomeStorage\", \"Home Storage\") \\\n",
    ".str.replace(\"CarAccessories\", \"Car Accessories\").str.replace(\"HomeMedicalSupplies\", \"Home Medical Supplies\")\n",
    "\n",
    "for i in range(2):\n",
    "    category = f\"category_l0{i + 1}\"\n",
    "    print(f\"Unique items in category_l0{i + 1}: {amazon_df[category].unique()}\")"
   ]
  },
  {
   "cell_type": "code",
   "execution_count": null,
   "id": "4e97b6b9-c409-4b40-9678-0685666e52c6",
   "metadata": {},
   "outputs": [],
   "source": [
    "# Categories levels with \"none\" are dropped\n",
    "for i in range(3, 8):\n",
    "    category = f\"category_l0{i}\"\n",
    "    amazon_df = amazon_df.drop(category, axis = 1)\n",
    "\n",
    "amazon_df.head()"
   ]
  },
  {
   "cell_type": "code",
   "execution_count": null,
   "id": "640d2c45-f423-4b15-ab33-b7994de66609",
   "metadata": {},
   "outputs": [],
   "source": [
    "# Check data types and samples of \"actual_price\" and \"discounted_price\"\n",
    "print(f\"Dtype Length (Actual Price): {len(amazon_df['actual_price'].map(type).unique())}\")\n",
    "print(f\"Dtypes (Actual Price): {amazon_df['actual_price'].map(type).unique()}\")\n",
    "print(f\"Sample data (Actual Price): {amazon_df['actual_price'].sample(20).tolist()}\")\n",
    "print(f\"Dtype Length (Discounted Price: {len(amazon_df['discounted_price'].map(type).unique())}\")\n",
    "print(f\"Dtypes (Discounted Price): {amazon_df['discounted_price'].map(type).unique()}\")\n",
    "print(f\"Sample data (Discounted Price): {amazon_df['actual_price'].sample(20).tolist()}\")"
   ]
  },
  {
   "cell_type": "code",
   "execution_count": null,
   "id": "cdcfb35d-6f22-49ee-a759-af2667515075",
   "metadata": {},
   "outputs": [],
   "source": [
    "# Rename \"actual_price\" and \"discounted_price\" to indicate the currency\n",
    "amazon_df = amazon_df.rename(columns = {\"actual_price\": \"actual_price_inr\", \"discounted_price\": \"discounted_price_inr\"})"
   ]
  },
  {
   "cell_type": "code",
   "execution_count": null,
   "id": "2d966422-400b-4c79-ac5a-8b565bec6cf2",
   "metadata": {},
   "outputs": [],
   "source": [
    "# Transform the \"actual_price_inr\" and \"discount_price_inr\" columns to make them numeric\n",
    "def transform_price(column):\n",
    "    amazon_df.loc[:, column] = pd.to_numeric(amazon_df[column].str.replace(\"₹\", \"\").str.replace(\",\", \"\"))\n",
    "\n",
    "transform_price(\"actual_price_inr\")\n",
    "transform_price(\"discounted_price_inr\")\n",
    "\n",
    "amazon_df.head()"
   ]
  },
  {
   "cell_type": "code",
   "execution_count": null,
   "id": "bb672e6c-6c78-4680-9812-3ea267d2ced2",
   "metadata": {},
   "outputs": [],
   "source": [
    "# Define function for currency conversion to USD, the world's most referenced currency\n",
    "# Update the conversion rate or change the currency as needed\n",
    "def inr_to_usd(amount_in_inr):\n",
    "    conversion_rate = 80  # define conversion rate here\n",
    "    return amount_in_inr / conversion_rate\n",
    "\n",
    "def replace_column(df, old_col, new_col, new_values):\n",
    "    # Find the position of the old column\n",
    "    col_index = df.columns.get_loc(old_col)\n",
    "    \n",
    "    # Drop the old column\n",
    "    df.drop(old_col, axis = 1, inplace = True)\n",
    "    \n",
    "    # Insert the new column at the same position\n",
    "    df.insert(col_index, new_col, new_values)\n",
    "\n",
    "# Convert prices and replace columns in-place\n",
    "replace_column(amazon_df, \"actual_price_inr\", \"actual_price\", inr_to_usd(amazon_df[\"actual_price_inr\"]))\n",
    "replace_column(amazon_df, \"discounted_price_inr\", \"discounted_price\", inr_to_usd(amazon_df[\"discounted_price_inr\"]))\n",
    "\n",
    "amazon_df.head()"
   ]
  },
  {
   "cell_type": "code",
   "execution_count": null,
   "id": "6bda2573-475f-4c80-a61c-b0d53a430a63",
   "metadata": {},
   "outputs": [],
   "source": [
    "# Drop \"discount_percentage\"\n",
    "amazon_df = amazon_df.drop([\"discount_percentage\"], axis = 1)\n",
    "amazon_df.head()"
   ]
  },
  {
   "cell_type": "code",
   "execution_count": null,
   "id": "e5bca1d1-6407-40a1-972c-4707d6dfd61c",
   "metadata": {},
   "outputs": [],
   "source": [
    "# Find unique data types in each column\n",
    "amazon_df.apply(lambda col: col.map(type).unique())"
   ]
  },
  {
   "cell_type": "code",
   "execution_count": null,
   "id": "e7cdbeca-e527-466e-9f37-bb8fb0246c54",
   "metadata": {},
   "outputs": [],
   "source": [
    "# Check rating data\n",
    "amazon_df[\"rating\"].unique()"
   ]
  },
  {
   "cell_type": "code",
   "execution_count": null,
   "id": "7b874931-929f-4ae3-9b79-5570e921db52",
   "metadata": {},
   "outputs": [],
   "source": [
    "# Check the rows where the \"rating\" column is equal to \"|\"\n",
    "amazon_df[amazon_df[\"rating\"] == \"|\"]"
   ]
  },
  {
   "cell_type": "code",
   "execution_count": null,
   "id": "166a7e57-1d70-4c33-b811-05556b2c85fb",
   "metadata": {},
   "outputs": [],
   "source": [
    "# Drop rows where the \"rating\" column is equal to \"|\"\n",
    "amazon_df = amazon_df[amazon_df[\"rating\"] != \"|\"]\n",
    "\n",
    "amazon_df"
   ]
  },
  {
   "cell_type": "code",
   "execution_count": null,
   "id": "24cea2f3-3c89-490f-ac98-b00ce1324884",
   "metadata": {},
   "outputs": [],
   "source": [
    "# Transform the \"rating\" and \"rating_count\" column and make them numeric\n",
    "amazon_df[\"rating\"] = pd.to_numeric(amazon_df[\"rating\"])\n",
    "amazon_df[\"rating_count\"] = pd.to_numeric(amazon_df[\"rating_count\"].str.replace(\",\", \"\"))\n",
    "\n",
    "amazon_df.head()"
   ]
  },
  {
   "cell_type": "code",
   "execution_count": null,
   "id": "ca770575-2bf0-4374-9f45-b71f37fdcd7e",
   "metadata": {},
   "outputs": [],
   "source": [
    "# Check for duplicates\n",
    "def check_duplicates(dataframe):\n",
    "    return dataframe.duplicated().sum()\n",
    "\n",
    "print(check_duplicates(amazon_df))"
   ]
  },
  {
   "cell_type": "code",
   "execution_count": null,
   "id": "019c73a4-4a1b-44ab-bc22-ac6fb83803b2",
   "metadata": {},
   "outputs": [],
   "source": [
    "# Remove duplicates and reset index\n",
    "amazon_df = amazon_df[amazon_df.duplicated() == False].reset_index(drop = True)\n",
    "\n",
    "amazon_df"
   ]
  },
  {
   "cell_type": "code",
   "execution_count": null,
   "id": "db52ad3a-c4fa-42bb-a726-8294dc83bdf7",
   "metadata": {},
   "outputs": [],
   "source": [
    "# Further check the number of unique \"product_id\"\n",
    "amazon_df[\"product_id\"].nunique()"
   ]
  },
  {
   "cell_type": "code",
   "execution_count": null,
   "id": "0b0f6cd3-0d65-40b9-aecc-ca27f613ac1a",
   "metadata": {},
   "outputs": [],
   "source": [
    "# Identify duplicate \"product_id\" to investigate potential issues\n",
    "amazon_df[amazon_df.duplicated(subset = \"product_id\", keep=False)].sort_values(by = \"product_id\", ascending = True)"
   ]
  },
  {
   "cell_type": "code",
   "execution_count": null,
   "id": "44530bb9-ee97-40ba-89a1-477df8f2137d",
   "metadata": {},
   "outputs": [],
   "source": [
    "# Most rows with duplicate \"product_id\" are nearly identical, except for minor differences in the \"rating_count\" and/or \"review_content\" columns\n",
    "# To maintain data quality, duplicates should be removed while keeping the row with the highest \"rating_count\" for each product\n",
    "amazon_df = amazon_df.sort_values(by = \"rating_count\", ascending = False) \\\n",
    "                     .drop_duplicates(subset = \"product_id\", keep = \"first\") \\\n",
    "                     .sort_index() \\\n",
    "                     .reset_index(drop = True)\n",
    "amazon_df"
   ]
  },
  {
   "cell_type": "code",
   "execution_count": null,
   "id": "f8a7107c-63e4-49d9-bf01-6f06e1e9b318",
   "metadata": {},
   "outputs": [],
   "source": [
    "# Analyse Sentiment\n",
    "\n",
    "# Create the sentiment score column\n",
    "amazon_df = amazon_df.assign(\n",
    "    sentiment_score = amazon_df[\"review_content\"].apply(lambda x: TextBlob(str(x)).sentiment.polarity))\n",
    "\n",
    "# Create the sentiment category column\n",
    "amazon_df = amazon_df.assign(\n",
    "    sentiment_category = amazon_df[\"sentiment_score\"].apply(lambda x: \"Positive\" if x > 0 else (\"Negative\" if x < 0 else \"Neutral\")))\n",
    "\n",
    "amazon_df.head()"
   ]
  },
  {
   "cell_type": "code",
   "execution_count": null,
   "id": "fec94c02-4367-4815-b5dd-ca9c50410066",
   "metadata": {},
   "outputs": [],
   "source": [
    "# Drop and rename columns\n",
    "amazon_df = amazon_df.drop([\"category\", \"about_product\", \"review_title\", \"review_content\"], axis = 1)\n",
    "amazon_df = amazon_df.rename(columns = {\"category_l01\": \"category\", \"category_l02\": \"subcategory\"})\n",
    "\n",
    "amazon_df.head()"
   ]
  },
  {
   "cell_type": "code",
   "execution_count": null,
   "id": "f8d57f83-1d4d-4046-a49d-461ffe5a5e2f",
   "metadata": {},
   "outputs": [],
   "source": [
    "# Find unique data types in each column\n",
    "amazon_df.apply(lambda col: col.map(type).unique())"
   ]
  },
  {
   "cell_type": "code",
   "execution_count": null,
   "id": "dddb1f3e-76db-4cbb-96ec-1af5dfb2c55b",
   "metadata": {},
   "outputs": [],
   "source": [
    "# Force convert data types\n",
    "amazon_df = amazon_df.convert_dtypes()\n",
    "\n",
    "amazon_df.dtypes"
   ]
  },
  {
   "cell_type": "code",
   "execution_count": null,
   "id": "c8692c69-07ec-49f4-945e-7274be45fb7f",
   "metadata": {},
   "outputs": [],
   "source": [
    "# Export cleaned CSV file\n",
    "amazon_df.to_csv(\"data/amazon_etl.csv\", index = False)"
   ]
  }
 ],
 "metadata": {
  "kernelspec": {
   "display_name": "Python 3 (ipykernel)",
   "language": "python",
   "name": "python3"
  },
  "language_info": {
   "codemirror_mode": {
    "name": "ipython",
    "version": 3
   },
   "file_extension": ".py",
   "mimetype": "text/x-python",
   "name": "python",
   "nbconvert_exporter": "python",
   "pygments_lexer": "ipython3",
   "version": "3.11.0"
  }
 },
 "nbformat": 4,
 "nbformat_minor": 5
}
